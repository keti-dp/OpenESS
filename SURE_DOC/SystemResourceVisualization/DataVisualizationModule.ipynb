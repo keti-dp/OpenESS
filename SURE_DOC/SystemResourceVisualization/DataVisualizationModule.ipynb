{
 "cells": [
  {
   "cell_type": "code",
   "execution_count": 1,
   "id": "e4809004",
   "metadata": {},
   "outputs": [],
   "source": [
    "import pandas\n",
    "import matplotlib.pyplot as plt\n",
    "import ipywidgets as widgets\n",
    "\n",
    "%matplotlib inline"
   ]
  },
  {
   "cell_type": "code",
   "execution_count": 2,
   "id": "9caa23da",
   "metadata": {},
   "outputs": [],
   "source": [
    "data = pandas.read_csv('데이터 경로')\n",
    "columns = list(data.columns)"
   ]
  },
  {
   "cell_type": "markdown",
   "id": "31b606b9",
   "metadata": {},
   "source": [
    "### 데이터 정규화, 표준화"
   ]
  },
  {
   "cell_type": "code",
   "execution_count": 3,
   "id": "3264750b",
   "metadata": {},
   "outputs": [],
   "source": [
    "for column in columns:\n",
    "    try:\n",
    "        data[column] = (data[column] - data[column].min()) / (data[column].max() - data[column].min())\n",
    "        data[column] = (data[column] - (data[column].mean())) / data[column].std()\n",
    "    except TypeError:\n",
    "        continue"
   ]
  },
  {
   "cell_type": "markdown",
   "id": "8b830ec2",
   "metadata": {},
   "source": [
    "### 데이터 출력"
   ]
  },
  {
   "cell_type": "code",
   "execution_count": 11,
   "id": "eb0ab0bd",
   "metadata": {},
   "outputs": [],
   "source": [
    "plt.rcParams['figure.figsize'] = [32, 24]\n",
    "def show(taglist):\n",
    "    try:\n",
    "        data.plot(y=taglist)\n",
    "    except TypeError:\n",
    "        pass"
   ]
  },
  {
   "cell_type": "code",
   "execution_count": 13,
   "id": "874c1a31",
   "metadata": {},
   "outputs": [
    {
     "data": {
      "application/vnd.jupyter.widget-view+json": {
       "model_id": "670c8a0e4ebb4feda24891a937dbfe2a",
       "version_major": 2,
       "version_minor": 0
      },
      "text/plain": [
       "interactive(children=(TagsInput(value=['BMS1.Bank_N01_Rack_N001_Rack Voltage'], allow_duplicates=False, allowe…"
      ]
     },
     "metadata": {},
     "output_type": "display_data"
    },
    {
     "data": {
      "text/plain": [
       "<function __main__.show(taglist)>"
      ]
     },
     "execution_count": 13,
     "metadata": {},
     "output_type": "execute_result"
    }
   ],
   "source": [
    "tags = widgets.TagsInput(\n",
    "    value=[columns[2]],\n",
    "    allowed_tags=columns[2:],\n",
    "    allow_duplicates=False\n",
    ")\n",
    "\n",
    "widgets.interact(show, taglist = tags)"
   ]
  },
  {
   "cell_type": "code",
   "execution_count": null,
   "id": "401021c6",
   "metadata": {},
   "outputs": [],
   "source": []
  }
 ],
 "metadata": {
  "kernelspec": {
   "display_name": "Python 3 (ipykernel)",
   "language": "python",
   "name": "python3"
  },
  "language_info": {
   "codemirror_mode": {
    "name": "ipython",
    "version": 3
   },
   "file_extension": ".py",
   "mimetype": "text/x-python",
   "name": "python",
   "nbconvert_exporter": "python",
   "pygments_lexer": "ipython3",
   "version": "3.7.13"
  }
 },
 "nbformat": 4,
 "nbformat_minor": 5
}
