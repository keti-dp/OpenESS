{
 "cells": [
  {
   "cell_type": "code",
   "execution_count": null,
   "metadata": {},
   "outputs": [],
   "source": [
    "# Clone SVDD model from github\n",
    "# !git clone https://github.com/iqiukp/SVDD-Python.git"
   ]
  },
  {
   "cell_type": "code",
   "execution_count": null,
   "metadata": {},
   "outputs": [],
   "source": [
    "import sys\n",
    "\n",
    "from sklearn.decomposition import PCA, KernelPCA\n",
    "from sklearn.preprocessing import StandardScaler, MinMaxScaler, RobustScaler\n",
    "import glob\n",
    "import numpy as np\n",
    "import pandas as pd\n",
    "import matplotlib.pyplot as plt\n",
    "import seaborn as sns\n",
    "import plotly.express as px\n",
    "\n",
    "sys.path.append(\"./SVDD-Python\")\n",
    "from src.BaseSVDD import BaseSVDD\n",
    "\n",
    "plt.style.use ('ggplot')"
   ]
  },
  {
   "cell_type": "code",
   "execution_count": null,
   "metadata": {},
   "outputs": [],
   "source": [
    "# Import DataFrame\n",
    "df = pd.read_csv('file_path')\n",
    "\n",
    "columns = ['CPU usage', 'Stack usage', 'Heap current','Heap max']\n",
    "X = df.loc[:,columns]"
   ]
  },
  {
   "cell_type": "code",
   "execution_count": null,
   "metadata": {},
   "outputs": [],
   "source": [
    "\n",
    "pca = PCA()\n",
    "pca.fit(X)\n",
    "exp_var_cumul = np.cumsum(pca.explained_variance_ratio_)\n",
    "\n",
    "px.area(\n",
    "    x=range(1, exp_var_cumul.shape[0] + 1),\n",
    "    y=exp_var_cumul,\n",
    "    labels={\"x\": \"# Components\", \"y\": \"Explained Variance\"}\n",
    ")\n",
    "\n"
   ]
  },
  {
   "cell_type": "code",
   "execution_count": null,
   "metadata": {},
   "outputs": [],
   "source": [
    "# Standard Scaler\n",
    "scaler = StandardScaler()\n",
    "X = scaler.fit_transform(X)\n",
    "display(X)\n",
    "\n",
    "\n",
    "\n",
    "# Kernel PCA using cosine kernel\n",
    "kpca = KernelPCA(n_components=2, kernel='cosine',fit_inverse_transform=False)\n",
    "kpca.fit(X)\n",
    "X = kpca.transform(X)\n",
    "\n",
    "# svdd object using rbf kernel\n",
    "svdd = BaseSVDD(C=0.9,degree = 2, gamma=0.8, kernel='rbf',display='on', n_jobs = -1)\n",
    "\n",
    "# fit the SVDD model\n",
    "svdd.fit(X)\n",
    "\n",
    "# predict the label\n",
    "y_predict = svdd.predict(X)\n",
    "\n",
    "# plot the boundary\n",
    "svdd.plot_boundary(X)\n",
    "\n",
    "# plot the distance\n",
    "radius = svdd.radius\n",
    "distance = svdd.get_distance(X)\n",
    "\n",
    "svdd.plot_distance(radius, distance)"
   ]
  }
 ],
 "metadata": {
  "language_info": {
   "name": "python"
  },
  "orig_nbformat": 4
 },
 "nbformat": 4,
 "nbformat_minor": 2
}
